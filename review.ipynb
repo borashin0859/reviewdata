{
 "cells": [
  {
   "cell_type": "markdown",
   "metadata": {},
   "source": [
    "# 기획자나 마케터가 되어보자 1탄 \n",
    "## 이벤트 댓글을 분석해보기"
   ]
  },
  {
   "cell_type": "markdown",
   "metadata": {},
   "source": [
    "### 댓글 속 제품에 대한 관심을 빈도 수로 추출해야 한다면?\n",
    "* 쇼핑몰에서 제품 관련 이벤트 진행시 어떤 제품을 고객이 선호하는지?\n",
    "* 고객 DB와 연계할 수 있다면 이벤트 혹은 마케팅 세그먼트로 활용 가능?"
   ]
  },
  {
   "cell_type": "markdown",
   "metadata": {},
   "source": [
    "### 그렇게 이어지는 향후 마케팅 전략 수립 "
   ]
  },
  {
   "cell_type": "markdown",
   "metadata": {},
   "source": [
    "# load library"
   ]
  },
  {
   "cell_type": "code",
   "execution_count": 1,
   "metadata": {},
   "outputs": [],
   "source": [
    "import pandas as pd\n",
    "import numpy as np\n",
    "import re\n",
    "import matplotlib.pyplot as plt\n",
    "import requests #requests는 웹브라우저로 웹사이트 내용을 가져오는 라이브러리\n",
    "from bs4 import BeautifulSoup as bs #beautifulsoup을 통해 읽어 온 웹페이지 파싱\n",
    "\n",
    "from tqdm import trange #작업이 얼마나 진행되었는지 확인\n",
    "%matplotlib inline"
   ]
  },
  {
   "cell_type": "code",
   "execution_count": 6,
   "metadata": {},
   "outputs": [
    {
     "data": {
      "text/plain": [
       "<Response [200]>"
      ]
     },
     "execution_count": 6,
     "metadata": {},
     "output_type": "execute_result"
    }
   ],
   "source": [
    "base_url=\"https://www.inflearn.com/pages/newyear-event-20200102\"\n",
    "response=requests.get(base_url) #url내용 받아옴\n",
    "response #전체 페이지가 내 주피터 노트북에 받아졌다 (reposnce[200]: 정상적으로 받아왔다)"
   ]
  },
  {
   "cell_type": "code",
   "execution_count": 37,
   "metadata": {},
   "outputs": [],
   "source": [
    "#response.text #페이지소스 "
   ]
  },
  {
   "cell_type": "code",
   "execution_count": 8,
   "metadata": {},
   "outputs": [],
   "source": [
    "#html 형식의 response.text를 파싱해서 내용을 담아줘\n",
    "soup=bs(response.text,'html.parser')\n"
   ]
  },
  {
   "cell_type": "code",
   "execution_count": 14,
   "metadata": {},
   "outputs": [
    {
     "data": {
      "text/plain": [
       "<div class=\"chitchat-item chitchat-editor-closed comment-editor-closed\" data-id=\"23158\">\n",
       "<figure class=\"image is-48x48\">\n",
       "<img alt=\"HONGJOO Ha\" class=\"user_thumb is-rounded\" src=\"https://cdn.inflearn.com/public/main/profile/default_profile.png\"/>\n",
       "</figure>\n",
       "<div class=\"content\">\n",
       "<div class=\"author\">\n",
       "<a class=\"author_name\" href=\"/users/229263\">HONGJOO Ha</a>\n",
       "<time class=\"created_at\" datetime=\"Thu Jan 30 2020 20:37:05 GMT+0900 (GMT+09:00)\">⋅ 12개월 전</time>\n",
       "<a class=\"chitchat__button chitchat__button--update-chitchat by-chitchat-editor-opened\" type=\"button\">저장</a>\n",
       "<a class=\"chitchat__button chitchat__button--hide-editor by-chitchat-editor-opened\" type=\"button\">취소</a>\n",
       "<a class=\"chitchat__button chitchat__button--hide-comment-editor by-comment-editor-opened\" type=\"button\">작성취소</a>\n",
       "<a class=\"chitchat__button chitchat__button_recommend e-like-button\" type=\"button\">\n",
       "<button class=\"T-like-button\" data-reaction=\"\" data-recommended_cnt=\"0\">\n",
       "<span class=\"infd-icon fill\"><svg viewbox=\"0 0 14 12\" width=\"16\" xmlns=\"http://www.w3.org/2000/svg\"><path d=\"M12.641.82C11.143-.43 8.914-.204 7.54 1.186L7 1.729l-.538-.544C5.089-.205 2.858-.43 1.359.82-.358 2.256-.448 4.833 1.09 6.389l5.29 5.352c.342.345.897.345 1.24 0l5.29-5.352c1.54-1.556 1.45-4.133-.268-5.568z\" fill=\"#212529\" fill-rule=\"evenodd\"></path></svg></span>\n",
       "<span class=\"infd-icon\"><svg aria-hidden=\"true\" class=\"svg-inline--fa fa-heart fa-w-16\" data-icon=\"heart\" data-prefix=\"fal\" focusable=\"false\" role=\"img\" viewbox=\"0 0 512 512\" width=\"16\" xmlns=\"http://www.w3.org/2000/svg\"><path d=\"M462.3 62.7c-54.5-46.4-136-38.7-186.6 13.5L256 96.6l-19.7-20.3C195.5 34.1 113.2 8.7 49.7 62.7c-62.8 53.6-66.1 149.8-9.9 207.8l193.5 199.8c6.2 6.4 14.4 9.7 22.6 9.7 8.2 0 16.4-3.2 22.6-9.7L472 270.5c56.4-58 53.1-154.2-9.7-207.8zm-13.1 185.6L256.4 448.1 62.8 248.3c-38.4-39.6-46.4-115.1 7.7-161.2 54.8-46.8 119.2-12.9 142.8 11.5l42.7 44.1 42.7-44.1c23.2-24 88.2-58 142.8-11.5 54 46 46.1 121.5 7.7 161.2z\" fill=\"#212529\"></path></svg></span>\n",
       "<span class=\"number\">(0)</span>\n",
       "</button>\n",
       "</a>\n",
       "</div>\n",
       "<div class=\"body edit-chitchat by-chitchat-editor-closed\">오늘코드 사랑해요 ~ \n",
       "데이터 분석 기초를 둔둔하게~ \n",
       "#관심강의 : Oracle SQL, 데이터 분석, 파이썬</div>\n",
       "<div class=\"chitchat__editor by-chitchat-editor-opened\">\n",
       "<textarea class=\"tinymce\"></textarea>\n",
       "</div>\n",
       "<div class=\"summary_comments\" data-comments=\"\">\n",
       "</div>\n",
       "<div class=\"chitchats_and_editor is-hidden\">\n",
       "<div class=\"chitchat-comment-list\">\n",
       "</div>\n",
       "<div class=\"comment__editor by-comment-editor-opened\">\n",
       "<textarea class=\"tinymce\"></textarea>\n",
       "<button class=\"insert-chitchat-cmt button\" type=\"button\">등록</button>\n",
       "</div>\n",
       "</div>\n",
       "</div>\n",
       "</div>"
      ]
     },
     "execution_count": 14,
     "metadata": {},
     "output_type": "execute_result"
    }
   ],
   "source": [
    "# main > section > div > div > div.chitchats > div.chitchat-list >\n",
    "# div:nth-child(33) > div > div.body.edit-chitchat\n",
    "\n",
    "content=soup.select(\"#main > section > div > div > div.chitchats > div.chitchat-list > div\")\n",
    "content[-1]"
   ]
  },
  {
   "cell_type": "code",
   "execution_count": 19,
   "metadata": {},
   "outputs": [
    {
     "data": {
      "text/plain": [
       "<div class=\"body edit-chitchat by-chitchat-editor-closed\">오늘코드 사랑해요 ~ \n",
       "데이터 분석 기초를 둔둔하게~ \n",
       "#관심강의 : Oracle SQL, 데이터 분석, 파이썬</div>"
      ]
     },
     "execution_count": 19,
     "metadata": {},
     "output_type": "execute_result"
    }
   ],
   "source": [
    "chitchat=content[-1].select(\"div.body.edit-chitchat\")[0]\n",
    "chitchat"
   ]
  },
  {
   "cell_type": "code",
   "execution_count": 15,
   "metadata": {},
   "outputs": [],
   "source": [
    "#원하는 내용만 가져오고 앞뒤 공백은 지워달라\n",
    "chitchat=content[-1].select(\"div.body.edit-chitchat\")[0].get_text(strip=True) "
   ]
  },
  {
   "cell_type": "code",
   "execution_count": 16,
   "metadata": {},
   "outputs": [
    {
     "data": {
      "text/plain": [
       "'오늘코드 사랑해요 ~ \\n데이터 분석 기초를 둔둔하게~ \\n#관심강의 : Oracle SQL, 데이터 분석, 파이썬'"
      ]
     },
     "execution_count": 16,
     "metadata": {},
     "output_type": "execute_result"
    }
   ],
   "source": [
    "chitchat"
   ]
  },
  {
   "cell_type": "code",
   "execution_count": 20,
   "metadata": {},
   "outputs": [
    {
     "name": "stdout",
     "output_type": "stream",
     "text": [
      "--------------------\n",
      "2020년  목표: 프알못에서 프로젝트 마스터 되기 \n",
      "관심 있는 강의 : 스프링 , React\n",
      "--------------------\n",
      "2020년 목표: 스프링 열심히 공부하서 직장에서 사랑받고 싶어요!!\n",
      "관심 있는 강의 : 스프링 웹 MVC\n",
      "--------------------\n",
      "2020년 목표: C++ 열심히 공부해서, 학교에서 꼭 A 맞기..!! \n",
      "관심있는 강의: 따배씨 C++\n",
      "--------------------\n",
      "2020년 목표 : 리액트 공부하기\n",
      "--------------------\n",
      "40대 프로그래밍 시작! : 우리를 위한 프로그래밍 : 파이썬 중급\n"
     ]
    }
   ],
   "source": [
    "for i in range(5):\n",
    "    print(\"-\"*20)\n",
    "    chitchat=content[i].select(\"div.body.edit-chitchat\")[0].get_text(strip=True) \n",
    "    print(chitchat)"
   ]
  },
  {
   "cell_type": "code",
   "execution_count": 22,
   "metadata": {},
   "outputs": [],
   "source": [
    "content_count=len(content) #게시물 댓글을 content에 담았었는데 개수는?"
   ]
  },
  {
   "cell_type": "code",
   "execution_count": 36,
   "metadata": {},
   "outputs": [],
   "source": [
    "events=[]\n",
    "for i in range(content_count):\n",
    "    #print(\"-\"*20)\n",
    "    chitchat=content[i].select(\"div.body.edit-chitchat\")[0].get_text(strip=True) \n",
    "    #print(chitchat)\n",
    "    events.append(chitchat)"
   ]
  },
  {
   "cell_type": "code",
   "execution_count": 32,
   "metadata": {},
   "outputs": [],
   "source": [
    "#events"
   ]
  },
  {
   "cell_type": "code",
   "execution_count": 26,
   "metadata": {},
   "outputs": [
    {
     "name": "stderr",
     "output_type": "stream",
     "text": [
      "100%|██████████| 100/100 [00:00<00:00, 4248.08it/s]\n"
     ]
    }
   ],
   "source": [
    "#trange로 진행률 확인해보기\n",
    "events=[]\n",
    "for i in trange(content_count):\n",
    "    chitchat=content[i].select(\"div.body.edit-chitchat\")[0].get_text(strip=True) \n",
    "    events.append(chitchat)"
   ]
  },
  {
   "cell_type": "code",
   "execution_count": 29,
   "metadata": {},
   "outputs": [
    {
     "data": {
      "text/plain": [
       "(100, 1)"
      ]
     },
     "execution_count": 29,
     "metadata": {},
     "output_type": "execute_result"
    }
   ],
   "source": [
    "df=pd.DataFrame({\"text\":events})\n",
    "df.shape"
   ]
  },
  {
   "cell_type": "code",
   "execution_count": 30,
   "metadata": {},
   "outputs": [],
   "source": [
    "df.to_csv(\"inflearn-event.csv\",index=False)"
   ]
  },
  {
   "cell_type": "code",
   "execution_count": 31,
   "metadata": {},
   "outputs": [
    {
     "data": {
      "text/html": [
       "<div>\n",
       "<style scoped>\n",
       "    .dataframe tbody tr th:only-of-type {\n",
       "        vertical-align: middle;\n",
       "    }\n",
       "\n",
       "    .dataframe tbody tr th {\n",
       "        vertical-align: top;\n",
       "    }\n",
       "\n",
       "    .dataframe thead th {\n",
       "        text-align: right;\n",
       "    }\n",
       "</style>\n",
       "<table border=\"1\" class=\"dataframe\">\n",
       "  <thead>\n",
       "    <tr style=\"text-align: right;\">\n",
       "      <th></th>\n",
       "      <th>text</th>\n",
       "    </tr>\n",
       "  </thead>\n",
       "  <tbody>\n",
       "    <tr>\n",
       "      <th>0</th>\n",
       "      <td>2020년  목표: 프알못에서 프로젝트 마스터 되기 \\n관심 있는 강의 : 스프링 ...</td>\n",
       "    </tr>\n",
       "    <tr>\n",
       "      <th>1</th>\n",
       "      <td>2020년 목표: 스프링 열심히 공부하서 직장에서 사랑받고 싶어요!!\\n관심 있는 ...</td>\n",
       "    </tr>\n",
       "    <tr>\n",
       "      <th>2</th>\n",
       "      <td>2020년 목표: C++ 열심히 공부해서, 학교에서 꼭 A 맞기..!! \\n관심있는...</td>\n",
       "    </tr>\n",
       "    <tr>\n",
       "      <th>3</th>\n",
       "      <td>2020년 목표 : 리액트 공부하기</td>\n",
       "    </tr>\n",
       "    <tr>\n",
       "      <th>4</th>\n",
       "      <td>40대 프로그래밍 시작! : 우리를 위한 프로그래밍 : 파이썬 중급</td>\n",
       "    </tr>\n",
       "  </tbody>\n",
       "</table>\n",
       "</div>"
      ],
      "text/plain": [
       "                                                text\n",
       "0  2020년  목표: 프알못에서 프로젝트 마스터 되기 \\n관심 있는 강의 : 스프링 ...\n",
       "1  2020년 목표: 스프링 열심히 공부하서 직장에서 사랑받고 싶어요!!\\n관심 있는 ...\n",
       "2  2020년 목표: C++ 열심히 공부해서, 학교에서 꼭 A 맞기..!! \\n관심있는...\n",
       "3                                2020년 목표 : 리액트 공부하기\n",
       "4              40대 프로그래밍 시작! : 우리를 위한 프로그래밍 : 파이썬 중급"
      ]
     },
     "execution_count": 31,
     "metadata": {},
     "output_type": "execute_result"
    }
   ],
   "source": [
    "pd.read_csv(\"inflearn-event.csv\").head()"
   ]
  },
  {
   "cell_type": "code",
   "execution_count": null,
   "metadata": {},
   "outputs": [],
   "source": []
  }
 ],
 "metadata": {
  "kernelspec": {
   "display_name": "Python 3",
   "language": "python",
   "name": "python3"
  },
  "language_info": {
   "codemirror_mode": {
    "name": "ipython",
    "version": 3
   },
   "file_extension": ".py",
   "mimetype": "text/x-python",
   "name": "python",
   "nbconvert_exporter": "python",
   "pygments_lexer": "ipython3",
   "version": "3.8.5"
  }
 },
 "nbformat": 4,
 "nbformat_minor": 4
}
